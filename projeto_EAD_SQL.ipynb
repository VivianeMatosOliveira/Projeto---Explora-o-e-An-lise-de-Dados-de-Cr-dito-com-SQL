{
  "nbformat": 4,
  "nbformat_minor": 0,
  "metadata": {
    "colab": {
      "provenance": [],
      "authorship_tag": "ABX9TyNSlrAPOnANvyGXWty7CkDY",
      "include_colab_link": true
    },
    "kernelspec": {
      "name": "python3",
      "display_name": "Python 3"
    },
    "language_info": {
      "name": "python"
    }
  },
  "cells": [
    {
      "cell_type": "markdown",
      "metadata": {
        "id": "view-in-github",
        "colab_type": "text"
      },
      "source": [
        "<a href=\"https://colab.research.google.com/github/VivianeMatosOliveira/Projeto_EAD_com_SQL/blob/main/projeto_EAD_SQL.ipynb\" target=\"_parent\"><img src=\"https://colab.research.google.com/assets/colab-badge.svg\" alt=\"Open In Colab\"/></a>"
      ]
    },
    {
      "cell_type": "code",
      "execution_count": null,
      "metadata": {
        "id": "YKNMaKnB7T2g"
      },
      "outputs": [],
      "source": [
        "# importando os pacotes\n",
        "import pandas as pd\n",
        "import matplotlib.pyplot as plt\n",
        "import seaborn as sns"
      ]
    },
    {
      "cell_type": "code",
      "source": [
        " colunas = ['idade','sexo','dependentes','escolaridade','estado_civil','salario_anual','tipo_cartao','qtd_produtos','iteracoes_12m', 'meses_inativo_12m','limite_credito','valor_transacoes_12m','qtd_transacoes_12m']"
      ],
      "metadata": {
        "id": "0XUmdY05RY8F"
      },
      "execution_count": null,
      "outputs": []
    },
    {
      "cell_type": "code",
      "source": [
        " # importando o arquivo csv para um DataFrame\n",
        "df = pd.read_csv('/content/credito8.csv', sep= ',', header=None, names = colunas, index_col=False)"
      ],
      "metadata": {
        "id": "_fKFlhFE7cFv"
      },
      "execution_count": null,
      "outputs": []
    },
    {
      "cell_type": "code",
      "source": [
        "# visualizando os dados\n",
        "df.head()"
      ],
      "metadata": {
        "colab": {
          "base_uri": "https://localhost:8080/",
          "height": 322
        },
        "id": "ZCYwfT-FtNSp",
        "outputId": "180a35a1-2d73-4350-eeed-3c403f35f547"
      },
      "execution_count": null,
      "outputs": [
        {
          "output_type": "execute_result",
          "data": {
            "text/plain": [
              "   idade sexo  dependentes         escolaridade estado_civil   salario_anual  \\\n",
              "0     45    M            3         ensino medio       casado     $60K - $80K   \n",
              "1     49    F            5             mestrado     solteiro  menos que $40K   \n",
              "2     51    M            3             mestrado       casado    $80K - $120K   \n",
              "3     40    F            4         ensino medio           na  menos que $40K   \n",
              "4     40    M            3  sem educacao formal       casado     $60K - $80K   \n",
              "\n",
              "  tipo_cartao  qtd_produtos  iteracoes_12m  meses_inativo_12m  limite_credito  \\\n",
              "0        blue             5              3                  1        12691.51   \n",
              "1        blue             6              2                  1         8256.96   \n",
              "2        blue             4              0                  1         3418.56   \n",
              "3        blue             3              1                  4         3313.03   \n",
              "4        blue             5              0                  1         4716.22   \n",
              "\n",
              "   valor_transacoes_12m  qtd_transacoes_12m  \n",
              "0               1144.90                  42  \n",
              "1               1291.45                  33  \n",
              "2               1887.72                  20  \n",
              "3               1171.56                  20  \n",
              "4                816.08                  28  "
            ],
            "text/html": [
              "\n",
              "  <div id=\"df-e4049cf8-7fbf-4ff4-be06-b15f775f9d60\">\n",
              "    <div class=\"colab-df-container\">\n",
              "      <div>\n",
              "<style scoped>\n",
              "    .dataframe tbody tr th:only-of-type {\n",
              "        vertical-align: middle;\n",
              "    }\n",
              "\n",
              "    .dataframe tbody tr th {\n",
              "        vertical-align: top;\n",
              "    }\n",
              "\n",
              "    .dataframe thead th {\n",
              "        text-align: right;\n",
              "    }\n",
              "</style>\n",
              "<table border=\"1\" class=\"dataframe\">\n",
              "  <thead>\n",
              "    <tr style=\"text-align: right;\">\n",
              "      <th></th>\n",
              "      <th>idade</th>\n",
              "      <th>sexo</th>\n",
              "      <th>dependentes</th>\n",
              "      <th>escolaridade</th>\n",
              "      <th>estado_civil</th>\n",
              "      <th>salario_anual</th>\n",
              "      <th>tipo_cartao</th>\n",
              "      <th>qtd_produtos</th>\n",
              "      <th>iteracoes_12m</th>\n",
              "      <th>meses_inativo_12m</th>\n",
              "      <th>limite_credito</th>\n",
              "      <th>valor_transacoes_12m</th>\n",
              "      <th>qtd_transacoes_12m</th>\n",
              "    </tr>\n",
              "  </thead>\n",
              "  <tbody>\n",
              "    <tr>\n",
              "      <th>0</th>\n",
              "      <td>45</td>\n",
              "      <td>M</td>\n",
              "      <td>3</td>\n",
              "      <td>ensino medio</td>\n",
              "      <td>casado</td>\n",
              "      <td>$60K - $80K</td>\n",
              "      <td>blue</td>\n",
              "      <td>5</td>\n",
              "      <td>3</td>\n",
              "      <td>1</td>\n",
              "      <td>12691.51</td>\n",
              "      <td>1144.90</td>\n",
              "      <td>42</td>\n",
              "    </tr>\n",
              "    <tr>\n",
              "      <th>1</th>\n",
              "      <td>49</td>\n",
              "      <td>F</td>\n",
              "      <td>5</td>\n",
              "      <td>mestrado</td>\n",
              "      <td>solteiro</td>\n",
              "      <td>menos que $40K</td>\n",
              "      <td>blue</td>\n",
              "      <td>6</td>\n",
              "      <td>2</td>\n",
              "      <td>1</td>\n",
              "      <td>8256.96</td>\n",
              "      <td>1291.45</td>\n",
              "      <td>33</td>\n",
              "    </tr>\n",
              "    <tr>\n",
              "      <th>2</th>\n",
              "      <td>51</td>\n",
              "      <td>M</td>\n",
              "      <td>3</td>\n",
              "      <td>mestrado</td>\n",
              "      <td>casado</td>\n",
              "      <td>$80K - $120K</td>\n",
              "      <td>blue</td>\n",
              "      <td>4</td>\n",
              "      <td>0</td>\n",
              "      <td>1</td>\n",
              "      <td>3418.56</td>\n",
              "      <td>1887.72</td>\n",
              "      <td>20</td>\n",
              "    </tr>\n",
              "    <tr>\n",
              "      <th>3</th>\n",
              "      <td>40</td>\n",
              "      <td>F</td>\n",
              "      <td>4</td>\n",
              "      <td>ensino medio</td>\n",
              "      <td>na</td>\n",
              "      <td>menos que $40K</td>\n",
              "      <td>blue</td>\n",
              "      <td>3</td>\n",
              "      <td>1</td>\n",
              "      <td>4</td>\n",
              "      <td>3313.03</td>\n",
              "      <td>1171.56</td>\n",
              "      <td>20</td>\n",
              "    </tr>\n",
              "    <tr>\n",
              "      <th>4</th>\n",
              "      <td>40</td>\n",
              "      <td>M</td>\n",
              "      <td>3</td>\n",
              "      <td>sem educacao formal</td>\n",
              "      <td>casado</td>\n",
              "      <td>$60K - $80K</td>\n",
              "      <td>blue</td>\n",
              "      <td>5</td>\n",
              "      <td>0</td>\n",
              "      <td>1</td>\n",
              "      <td>4716.22</td>\n",
              "      <td>816.08</td>\n",
              "      <td>28</td>\n",
              "    </tr>\n",
              "  </tbody>\n",
              "</table>\n",
              "</div>\n",
              "      <button class=\"colab-df-convert\" onclick=\"convertToInteractive('df-e4049cf8-7fbf-4ff4-be06-b15f775f9d60')\"\n",
              "              title=\"Convert this dataframe to an interactive table.\"\n",
              "              style=\"display:none;\">\n",
              "        \n",
              "  <svg xmlns=\"http://www.w3.org/2000/svg\" height=\"24px\"viewBox=\"0 0 24 24\"\n",
              "       width=\"24px\">\n",
              "    <path d=\"M0 0h24v24H0V0z\" fill=\"none\"/>\n",
              "    <path d=\"M18.56 5.44l.94 2.06.94-2.06 2.06-.94-2.06-.94-.94-2.06-.94 2.06-2.06.94zm-11 1L8.5 8.5l.94-2.06 2.06-.94-2.06-.94L8.5 2.5l-.94 2.06-2.06.94zm10 10l.94 2.06.94-2.06 2.06-.94-2.06-.94-.94-2.06-.94 2.06-2.06.94z\"/><path d=\"M17.41 7.96l-1.37-1.37c-.4-.4-.92-.59-1.43-.59-.52 0-1.04.2-1.43.59L10.3 9.45l-7.72 7.72c-.78.78-.78 2.05 0 2.83L4 21.41c.39.39.9.59 1.41.59.51 0 1.02-.2 1.41-.59l7.78-7.78 2.81-2.81c.8-.78.8-2.07 0-2.86zM5.41 20L4 18.59l7.72-7.72 1.47 1.35L5.41 20z\"/>\n",
              "  </svg>\n",
              "      </button>\n",
              "      \n",
              "  <style>\n",
              "    .colab-df-container {\n",
              "      display:flex;\n",
              "      flex-wrap:wrap;\n",
              "      gap: 12px;\n",
              "    }\n",
              "\n",
              "    .colab-df-convert {\n",
              "      background-color: #E8F0FE;\n",
              "      border: none;\n",
              "      border-radius: 50%;\n",
              "      cursor: pointer;\n",
              "      display: none;\n",
              "      fill: #1967D2;\n",
              "      height: 32px;\n",
              "      padding: 0 0 0 0;\n",
              "      width: 32px;\n",
              "    }\n",
              "\n",
              "    .colab-df-convert:hover {\n",
              "      background-color: #E2EBFA;\n",
              "      box-shadow: 0px 1px 2px rgba(60, 64, 67, 0.3), 0px 1px 3px 1px rgba(60, 64, 67, 0.15);\n",
              "      fill: #174EA6;\n",
              "    }\n",
              "\n",
              "    [theme=dark] .colab-df-convert {\n",
              "      background-color: #3B4455;\n",
              "      fill: #D2E3FC;\n",
              "    }\n",
              "\n",
              "    [theme=dark] .colab-df-convert:hover {\n",
              "      background-color: #434B5C;\n",
              "      box-shadow: 0px 1px 3px 1px rgba(0, 0, 0, 0.15);\n",
              "      filter: drop-shadow(0px 1px 2px rgba(0, 0, 0, 0.3));\n",
              "      fill: #FFFFFF;\n",
              "    }\n",
              "  </style>\n",
              "\n",
              "      <script>\n",
              "        const buttonEl =\n",
              "          document.querySelector('#df-e4049cf8-7fbf-4ff4-be06-b15f775f9d60 button.colab-df-convert');\n",
              "        buttonEl.style.display =\n",
              "          google.colab.kernel.accessAllowed ? 'block' : 'none';\n",
              "\n",
              "        async function convertToInteractive(key) {\n",
              "          const element = document.querySelector('#df-e4049cf8-7fbf-4ff4-be06-b15f775f9d60');\n",
              "          const dataTable =\n",
              "            await google.colab.kernel.invokeFunction('convertToInteractive',\n",
              "                                                     [key], {});\n",
              "          if (!dataTable) return;\n",
              "\n",
              "          const docLinkHtml = 'Like what you see? Visit the ' +\n",
              "            '<a target=\"_blank\" href=https://colab.research.google.com/notebooks/data_table.ipynb>data table notebook</a>'\n",
              "            + ' to learn more about interactive tables.';\n",
              "          element.innerHTML = '';\n",
              "          dataTable['output_type'] = 'display_data';\n",
              "          await google.colab.output.renderOutput(dataTable, element);\n",
              "          const docLink = document.createElement('div');\n",
              "          docLink.innerHTML = docLinkHtml;\n",
              "          element.appendChild(docLink);\n",
              "        }\n",
              "      </script>\n",
              "    </div>\n",
              "  </div>\n",
              "  "
            ]
          },
          "metadata": {},
          "execution_count": 13
        }
      ]
    },
    {
      "cell_type": "code",
      "source": [
        "# identificando o volume do DataFrame e os tipos de dados das variáveis.\n",
        "df.info()"
      ],
      "metadata": {
        "colab": {
          "base_uri": "https://localhost:8080/"
        },
        "id": "ZASeWfvRvhuf",
        "outputId": "92aa4f8a-3d40-4041-ec6f-9ba1a2a749d8"
      },
      "execution_count": null,
      "outputs": [
        {
          "output_type": "stream",
          "name": "stdout",
          "text": [
            "<class 'pandas.core.frame.DataFrame'>\n",
            "RangeIndex: 2564 entries, 0 to 2563\n",
            "Data columns (total 13 columns):\n",
            " #   Column                Non-Null Count  Dtype  \n",
            "---  ------                --------------  -----  \n",
            " 0   idade                 2564 non-null   int64  \n",
            " 1   sexo                  2564 non-null   object \n",
            " 2   dependentes           2564 non-null   int64  \n",
            " 3   escolaridade          2564 non-null   object \n",
            " 4   estado_civil          2564 non-null   object \n",
            " 5   salario_anual         2564 non-null   object \n",
            " 6   tipo_cartao           2564 non-null   object \n",
            " 7   qtd_produtos          2564 non-null   int64  \n",
            " 8   iteracoes_12m         2564 non-null   int64  \n",
            " 9   meses_inativo_12m     2564 non-null   int64  \n",
            " 10  limite_credito        2564 non-null   float64\n",
            " 11  valor_transacoes_12m  2564 non-null   float64\n",
            " 12  qtd_transacoes_12m    2564 non-null   int64  \n",
            "dtypes: float64(2), int64(6), object(5)\n",
            "memory usage: 260.5+ KB\n"
          ]
        }
      ]
    },
    {
      "cell_type": "code",
      "source": [
        "# quantidade de registros e colunas\n",
        "\n",
        "print('\\nTotal de registros: {}'.format(df.shape[0]))\n",
        "print('Total de colunas: {}\\n'.format(df.shape[1]))"
      ],
      "metadata": {
        "colab": {
          "base_uri": "https://localhost:8080/"
        },
        "id": "JhzJTcVxxQ51",
        "outputId": "b3e4d675-9925-4d8b-fe98-dd345b3e4aca"
      },
      "execution_count": null,
      "outputs": [
        {
          "output_type": "stream",
          "name": "stdout",
          "text": [
            "\n",
            "Total de registros: 2564\n",
            "Total de colunas: 13\n",
            "\n"
          ]
        }
      ]
    },
    {
      "cell_type": "code",
      "source": [
        "# descrição das colunas\n",
        "\n",
        "df.columns"
      ],
      "metadata": {
        "colab": {
          "base_uri": "https://localhost:8080/"
        },
        "id": "Z0evs7tozcjr",
        "outputId": "5206d0b9-dcbd-4661-febb-7537e94bcd07"
      },
      "execution_count": null,
      "outputs": [
        {
          "output_type": "execute_result",
          "data": {
            "text/plain": [
              "Index(['idade', 'sexo', 'dependentes', 'escolaridade', 'estado_civil',\n",
              "       'salario_anual', 'tipo_cartao', 'qtd_produtos', 'iteracoes_12m',\n",
              "       'meses_inativo_12m', 'limite_credito', 'valor_transacoes_12m',\n",
              "       'qtd_transacoes_12m'],\n",
              "      dtype='object')"
            ]
          },
          "metadata": {},
          "execution_count": 7
        }
      ]
    },
    {
      "cell_type": "code",
      "source": [
        "# verificando valores possíveis por colunas\n",
        "df['escolaridade'].unique()"
      ],
      "metadata": {
        "colab": {
          "base_uri": "https://localhost:8080/"
        },
        "id": "I8Lf54i1zo5D",
        "outputId": "86912e99-0ef9-4fd0-b2d1-effd1a4f3ec4"
      },
      "execution_count": null,
      "outputs": [
        {
          "output_type": "execute_result",
          "data": {
            "text/plain": [
              "array(['ensino medio', 'mestrado', 'sem educacao formal', 'na',\n",
              "       'graduacao', 'doutorado'], dtype=object)"
            ]
          },
          "metadata": {},
          "execution_count": 8
        }
      ]
    },
    {
      "cell_type": "code",
      "source": [
        "# verificando a quantidade de valores ausentes em cada variável\n",
        "\n",
        "df.isnull().sum().sort_values(ascending=False)"
      ],
      "metadata": {
        "colab": {
          "base_uri": "https://localhost:8080/"
        },
        "id": "-ydKoZ3z0CBr",
        "outputId": "bfe9337e-631e-45cd-c9c4-3212fdfd50e8"
      },
      "execution_count": null,
      "outputs": [
        {
          "output_type": "execute_result",
          "data": {
            "text/plain": [
              "id                      0\n",
              "idade                   0\n",
              "sexo                    0\n",
              "dependentes             0\n",
              "escolaridade            0\n",
              "estado_civil            0\n",
              "salario_anual           0\n",
              "tipo_cartao             0\n",
              "qtd_produtos            0\n",
              "iteracoes_12m           0\n",
              "meses_inativo_12m       0\n",
              "limite_credito          0\n",
              "valor_transacoes_12m    0\n",
              "qtd_transacoes_12m      0\n",
              "dtype: int64"
            ]
          },
          "metadata": {},
          "execution_count": 67
        }
      ]
    },
    {
      "cell_type": "code",
      "source": [
        "#verificando estatitisticas descritivas\n",
        "df.describe().T"
      ],
      "metadata": {
        "colab": {
          "base_uri": "https://localhost:8080/",
          "height": 300
        },
        "id": "I8WIZCA50QDS",
        "outputId": "e3df5b4c-4100-47d6-96db-815bb71a55ad"
      },
      "execution_count": null,
      "outputs": [
        {
          "output_type": "execute_result",
          "data": {
            "text/plain": [
              "                       count         mean          std      min        25%  \\\n",
              "idade                 2564.0    45.907956     9.826038    26.00    38.0000   \n",
              "dependentes           2564.0     2.093214     1.306176     0.00     1.0000   \n",
              "qtd_produtos          2564.0     4.356864     1.263008     1.00     3.0000   \n",
              "iteracoes_12m         2564.0     2.569813     1.119909     0.00     2.0000   \n",
              "meses_inativo_12m     2564.0     2.269891     0.986692     0.00     2.0000   \n",
              "limite_credito        2564.0  9072.720293  8751.423251  1438.03  2926.7125   \n",
              "valor_transacoes_12m  2564.0  1820.326100   689.003731   510.16  1352.9675   \n",
              "qtd_transacoes_12m    2564.0    41.704368    15.137243    10.00    31.0000   \n",
              "\n",
              "                           50%         75%       max  \n",
              "idade                   46.000     54.0000     73.00  \n",
              "dependentes              2.000      3.0000      5.00  \n",
              "qtd_produtos             4.000      5.0000      6.00  \n",
              "iteracoes_12m            3.000      3.0000      5.00  \n",
              "meses_inativo_12m        2.000      3.0000      6.00  \n",
              "limite_credito        5481.845  11931.5125  34516.99  \n",
              "valor_transacoes_12m  1665.915   2156.9450   4776.58  \n",
              "qtd_transacoes_12m      39.000     51.0000    103.00  "
            ],
            "text/html": [
              "\n",
              "  <div id=\"df-3bc80397-b46c-4dd9-8faa-ffa4f660f7d9\">\n",
              "    <div class=\"colab-df-container\">\n",
              "      <div>\n",
              "<style scoped>\n",
              "    .dataframe tbody tr th:only-of-type {\n",
              "        vertical-align: middle;\n",
              "    }\n",
              "\n",
              "    .dataframe tbody tr th {\n",
              "        vertical-align: top;\n",
              "    }\n",
              "\n",
              "    .dataframe thead th {\n",
              "        text-align: right;\n",
              "    }\n",
              "</style>\n",
              "<table border=\"1\" class=\"dataframe\">\n",
              "  <thead>\n",
              "    <tr style=\"text-align: right;\">\n",
              "      <th></th>\n",
              "      <th>count</th>\n",
              "      <th>mean</th>\n",
              "      <th>std</th>\n",
              "      <th>min</th>\n",
              "      <th>25%</th>\n",
              "      <th>50%</th>\n",
              "      <th>75%</th>\n",
              "      <th>max</th>\n",
              "    </tr>\n",
              "  </thead>\n",
              "  <tbody>\n",
              "    <tr>\n",
              "      <th>idade</th>\n",
              "      <td>2564.0</td>\n",
              "      <td>45.907956</td>\n",
              "      <td>9.826038</td>\n",
              "      <td>26.00</td>\n",
              "      <td>38.0000</td>\n",
              "      <td>46.000</td>\n",
              "      <td>54.0000</td>\n",
              "      <td>73.00</td>\n",
              "    </tr>\n",
              "    <tr>\n",
              "      <th>dependentes</th>\n",
              "      <td>2564.0</td>\n",
              "      <td>2.093214</td>\n",
              "      <td>1.306176</td>\n",
              "      <td>0.00</td>\n",
              "      <td>1.0000</td>\n",
              "      <td>2.000</td>\n",
              "      <td>3.0000</td>\n",
              "      <td>5.00</td>\n",
              "    </tr>\n",
              "    <tr>\n",
              "      <th>qtd_produtos</th>\n",
              "      <td>2564.0</td>\n",
              "      <td>4.356864</td>\n",
              "      <td>1.263008</td>\n",
              "      <td>1.00</td>\n",
              "      <td>3.0000</td>\n",
              "      <td>4.000</td>\n",
              "      <td>5.0000</td>\n",
              "      <td>6.00</td>\n",
              "    </tr>\n",
              "    <tr>\n",
              "      <th>iteracoes_12m</th>\n",
              "      <td>2564.0</td>\n",
              "      <td>2.569813</td>\n",
              "      <td>1.119909</td>\n",
              "      <td>0.00</td>\n",
              "      <td>2.0000</td>\n",
              "      <td>3.000</td>\n",
              "      <td>3.0000</td>\n",
              "      <td>5.00</td>\n",
              "    </tr>\n",
              "    <tr>\n",
              "      <th>meses_inativo_12m</th>\n",
              "      <td>2564.0</td>\n",
              "      <td>2.269891</td>\n",
              "      <td>0.986692</td>\n",
              "      <td>0.00</td>\n",
              "      <td>2.0000</td>\n",
              "      <td>2.000</td>\n",
              "      <td>3.0000</td>\n",
              "      <td>6.00</td>\n",
              "    </tr>\n",
              "    <tr>\n",
              "      <th>limite_credito</th>\n",
              "      <td>2564.0</td>\n",
              "      <td>9072.720293</td>\n",
              "      <td>8751.423251</td>\n",
              "      <td>1438.03</td>\n",
              "      <td>2926.7125</td>\n",
              "      <td>5481.845</td>\n",
              "      <td>11931.5125</td>\n",
              "      <td>34516.99</td>\n",
              "    </tr>\n",
              "    <tr>\n",
              "      <th>valor_transacoes_12m</th>\n",
              "      <td>2564.0</td>\n",
              "      <td>1820.326100</td>\n",
              "      <td>689.003731</td>\n",
              "      <td>510.16</td>\n",
              "      <td>1352.9675</td>\n",
              "      <td>1665.915</td>\n",
              "      <td>2156.9450</td>\n",
              "      <td>4776.58</td>\n",
              "    </tr>\n",
              "    <tr>\n",
              "      <th>qtd_transacoes_12m</th>\n",
              "      <td>2564.0</td>\n",
              "      <td>41.704368</td>\n",
              "      <td>15.137243</td>\n",
              "      <td>10.00</td>\n",
              "      <td>31.0000</td>\n",
              "      <td>39.000</td>\n",
              "      <td>51.0000</td>\n",
              "      <td>103.00</td>\n",
              "    </tr>\n",
              "  </tbody>\n",
              "</table>\n",
              "</div>\n",
              "      <button class=\"colab-df-convert\" onclick=\"convertToInteractive('df-3bc80397-b46c-4dd9-8faa-ffa4f660f7d9')\"\n",
              "              title=\"Convert this dataframe to an interactive table.\"\n",
              "              style=\"display:none;\">\n",
              "        \n",
              "  <svg xmlns=\"http://www.w3.org/2000/svg\" height=\"24px\"viewBox=\"0 0 24 24\"\n",
              "       width=\"24px\">\n",
              "    <path d=\"M0 0h24v24H0V0z\" fill=\"none\"/>\n",
              "    <path d=\"M18.56 5.44l.94 2.06.94-2.06 2.06-.94-2.06-.94-.94-2.06-.94 2.06-2.06.94zm-11 1L8.5 8.5l.94-2.06 2.06-.94-2.06-.94L8.5 2.5l-.94 2.06-2.06.94zm10 10l.94 2.06.94-2.06 2.06-.94-2.06-.94-.94-2.06-.94 2.06-2.06.94z\"/><path d=\"M17.41 7.96l-1.37-1.37c-.4-.4-.92-.59-1.43-.59-.52 0-1.04.2-1.43.59L10.3 9.45l-7.72 7.72c-.78.78-.78 2.05 0 2.83L4 21.41c.39.39.9.59 1.41.59.51 0 1.02-.2 1.41-.59l7.78-7.78 2.81-2.81c.8-.78.8-2.07 0-2.86zM5.41 20L4 18.59l7.72-7.72 1.47 1.35L5.41 20z\"/>\n",
              "  </svg>\n",
              "      </button>\n",
              "      \n",
              "  <style>\n",
              "    .colab-df-container {\n",
              "      display:flex;\n",
              "      flex-wrap:wrap;\n",
              "      gap: 12px;\n",
              "    }\n",
              "\n",
              "    .colab-df-convert {\n",
              "      background-color: #E8F0FE;\n",
              "      border: none;\n",
              "      border-radius: 50%;\n",
              "      cursor: pointer;\n",
              "      display: none;\n",
              "      fill: #1967D2;\n",
              "      height: 32px;\n",
              "      padding: 0 0 0 0;\n",
              "      width: 32px;\n",
              "    }\n",
              "\n",
              "    .colab-df-convert:hover {\n",
              "      background-color: #E2EBFA;\n",
              "      box-shadow: 0px 1px 2px rgba(60, 64, 67, 0.3), 0px 1px 3px 1px rgba(60, 64, 67, 0.15);\n",
              "      fill: #174EA6;\n",
              "    }\n",
              "\n",
              "    [theme=dark] .colab-df-convert {\n",
              "      background-color: #3B4455;\n",
              "      fill: #D2E3FC;\n",
              "    }\n",
              "\n",
              "    [theme=dark] .colab-df-convert:hover {\n",
              "      background-color: #434B5C;\n",
              "      box-shadow: 0px 1px 3px 1px rgba(0, 0, 0, 0.15);\n",
              "      filter: drop-shadow(0px 1px 2px rgba(0, 0, 0, 0.3));\n",
              "      fill: #FFFFFF;\n",
              "    }\n",
              "  </style>\n",
              "\n",
              "      <script>\n",
              "        const buttonEl =\n",
              "          document.querySelector('#df-3bc80397-b46c-4dd9-8faa-ffa4f660f7d9 button.colab-df-convert');\n",
              "        buttonEl.style.display =\n",
              "          google.colab.kernel.accessAllowed ? 'block' : 'none';\n",
              "\n",
              "        async function convertToInteractive(key) {\n",
              "          const element = document.querySelector('#df-3bc80397-b46c-4dd9-8faa-ffa4f660f7d9');\n",
              "          const dataTable =\n",
              "            await google.colab.kernel.invokeFunction('convertToInteractive',\n",
              "                                                     [key], {});\n",
              "          if (!dataTable) return;\n",
              "\n",
              "          const docLinkHtml = 'Like what you see? Visit the ' +\n",
              "            '<a target=\"_blank\" href=https://colab.research.google.com/notebooks/data_table.ipynb>data table notebook</a>'\n",
              "            + ' to learn more about interactive tables.';\n",
              "          element.innerHTML = '';\n",
              "          dataTable['output_type'] = 'display_data';\n",
              "          await google.colab.output.renderOutput(dataTable, element);\n",
              "          const docLink = document.createElement('div');\n",
              "          docLink.innerHTML = docLinkHtml;\n",
              "          element.appendChild(docLink);\n",
              "        }\n",
              "      </script>\n",
              "    </div>\n",
              "  </div>\n",
              "  "
            ]
          },
          "metadata": {},
          "execution_count": 9
        }
      ]
    },
    {
      "cell_type": "code",
      "source": [
        "# verificando o total de clientes cadastrados\n",
        "print('\\nTotal de clientes cadastrados: {}'.format(len(df['id'])))"
      ],
      "metadata": {
        "colab": {
          "base_uri": "https://localhost:8080/"
        },
        "id": "RnCa2RaH0l2_",
        "outputId": "56e70c6d-7902-4bba-85c8-e0f01cb3c4d3"
      },
      "execution_count": null,
      "outputs": [
        {
          "output_type": "stream",
          "name": "stdout",
          "text": [
            "\n",
            "Total de clientes cadastrados: 2563\n"
          ]
        }
      ]
    },
    {
      "cell_type": "code",
      "source": [
        "# verificando o grau de escolaridade\n",
        "ax = total_escolaridade = df['escolaridade'].value_counts().sort_values(ascending=True).plot(kind='barh', color='blue')\n",
        "plt.title('Total de Cliente por Tipo de Escolariade', loc='left')\n",
        "plt.xlabel('Total de Clientes')\n",
        "plt.ylabel('')\n",
        "ax.bar_label(ax.containers[0])\n",
        "plt.show();"
      ],
      "metadata": {
        "colab": {
          "base_uri": "https://localhost:8080/",
          "height": 472
        },
        "id": "7OWDNRH70_zf",
        "outputId": "5290cc58-9d98-4cc1-9b78-38c15e25f119"
      },
      "execution_count": null,
      "outputs": [
        {
          "output_type": "display_data",
          "data": {
            "text/plain": [
              "<Figure size 640x480 with 1 Axes>"
            ],
            "image/png": "[encoded data removed]"
          },
          "metadata": {}
        }
      ]
    },
    {
      "cell_type": "code",
      "source": [
        "df['estado_civil'].value_counts()"
      ],
      "metadata": {
        "colab": {
          "base_uri": "https://localhost:8080/"
        },
        "id": "nIvIXSc21vvA",
        "outputId": "081dd50c-9a26-4a29-bf28-e6d53d943cc1"
      },
      "execution_count": null,
      "outputs": [
        {
          "output_type": "execute_result",
          "data": {
            "text/plain": [
              "casado        1521\n",
              "solteiro       766\n",
              "divorciado     161\n",
              "na             116\n",
              "Name: estado_civil, dtype: int64"
            ]
          },
          "metadata": {},
          "execution_count": 85
        }
      ]
    },
    {
      "cell_type": "code",
      "source": [
        "ax = df['estado_civil'].value_counts().sort_values(ascending=True).plot(kind='barh', color='blue')\n",
        "plt.title('Total de Clientes por Estado Civil', loc='left')\n",
        "plt.xlabel('Total de Clientes')\n",
        "plt.ylabel('')\n",
        "ax.bar_label(ax.containers[0])\n",
        "plt.show();"
      ],
      "metadata": {
        "colab": {
          "base_uri": "https://localhost:8080/",
          "height": 472
        },
        "id": "Wwu3_cQyS2NJ",
        "outputId": "85facec2-159c-44e7-e510-88e611a1aa36"
      },
      "execution_count": null,
      "outputs": [
        {
          "output_type": "display_data",
          "data": {
            "text/plain": [
              "<Figure size 640x480 with 1 Axes>"
            ],
            "image/png": "[encoded data removed]"
          },
          "metadata": {}
        }
      ]
    },
    {
      "cell_type": "code",
      "source": [
        "vals = df['sexo'].value_counts().sort_values(ascending=True)"
      ],
      "metadata": {
        "id": "-_etsH6JJT0Y"
      },
      "execution_count": null,
      "outputs": []
    },
    {
      "cell_type": "code",
      "source": [
        "ax = df['sexo'].value_counts().sort_values(ascending=True).plot(kind='pie',autopct= lambda x: '{:.0f}'.format(x*vals.sum()/100))\n",
        "plt.title('Total de Clientes por Sexo', loc='left')\n",
        "plt.xlabel('Total de Clientes')\n",
        "plt.ylabel('')\n",
        "plt.show();"
      ],
      "metadata": {
        "colab": {
          "base_uri": "https://localhost:8080/",
          "height": 448
        },
        "id": "d0z8tarjT9uK",
        "outputId": "368fb93b-ce76-448e-85bb-b76a1066e5d0"
      },
      "execution_count": null,
      "outputs": [
        {
          "output_type": "display_data",
          "data": {
            "text/plain": [
              "<Figure size 640x480 with 1 Axes>"
            ],
            "image/png": "[encoded data removed]"
          },
          "metadata": {}
        }
      ]
    },
    {
      "cell_type": "code",
      "source": [
        "ax = total_escolaridade = df['salario_anual'].value_counts().sort_values(ascending=True).plot(kind='barh', color='blue')\n",
        "plt.title('Total de Clientes por Faixa de Salário Anual', loc='left')\n",
        "plt.xlabel('Total de Clientes')\n",
        "plt.ylabel('')\n",
        "ax.bar_label(ax.containers[0])\n",
        "plt.show();"
      ],
      "metadata": {
        "colab": {
          "base_uri": "https://localhost:8080/",
          "height": 472
        },
        "id": "DZ6iIqw9UeMO",
        "outputId": "c2954f01-7214-4667-f7bc-a039bce0986e"
      },
      "execution_count": null,
      "outputs": [
        {
          "output_type": "display_data",
          "data": {
            "text/plain": [
              "<Figure size 640x480 with 1 Axes>"
            ],
            "image/png": "[encoded data removed]"
          },
          "metadata": {}
        }
      ]
    },
    {
      "cell_type": "code",
      "source": [],
      "metadata": {
        "id": "HPVYZgrsNG_R"
      },
      "execution_count": null,
      "outputs": []
    },
    {
      "cell_type": "code",
      "source": [
        "ax = df.groupby(['sexo']).idade.mean().round(1).sort_values(ascending=True).plot(kind='barh', color='blue')\n",
        "\n",
        "plt.title('Idade Média por sexo', loc='left')\n",
        "plt.xlabel('Idade')\n",
        "plt.ylabel('')\n",
        "ax.bar_label(ax.containers[0])\n",
        "plt.show();"
      ],
      "metadata": {
        "colab": {
          "base_uri": "https://localhost:8080/",
          "height": 472
        },
        "id": "VREi02yNNM2_",
        "outputId": "ef949f3a-2d6b-4314-9f82-95eb3723cc63"
      },
      "execution_count": null,
      "outputs": [
        {
          "output_type": "display_data",
          "data": {
            "text/plain": [
              "<Figure size 640x480 with 1 Axes>"
            ],
            "image/png": "[encoded data removed]"
          },
          "metadata": {}
        }
      ]
    },
    {
      "cell_type": "code",
      "source": [
        "ax = df.groupby(['sexo']).idade.min().sort_values(ascending=True).plot(kind='barh', color='blue')\n",
        "\n",
        "plt.title('Idade mínima por sexo', loc='left')\n",
        "plt.xlabel('Idade')\n",
        "plt.ylabel('')\n",
        "ax.bar_label(ax.containers[0])\n",
        "plt.show();"
      ],
      "metadata": {
        "colab": {
          "base_uri": "https://localhost:8080/",
          "height": 472
        },
        "id": "vY7S0dXvbvOp",
        "outputId": "bacb20d0-39f7-4cb5-8771-70cf936f9465"
      },
      "execution_count": null,
      "outputs": [
        {
          "output_type": "display_data",
          "data": {
            "text/plain": [
              "<Figure size 640x480 with 1 Axes>"
            ],
            "image/png": "[encoded data removed]"
          },
          "metadata": {}
        }
      ]
    },
    {
      "cell_type": "code",
      "source": [
        "ax = df.groupby(['sexo']).idade.max().sort_values(ascending=True).plot(kind='barh', color='blue')\n",
        "\n",
        "plt.title('Idade Máxima por sexo', loc='left')\n",
        "plt.xlabel('Idade')\n",
        "plt.ylabel('')\n",
        "ax.bar_label(ax.containers[0])\n",
        "plt.show();"
      ],
      "metadata": {
        "colab": {
          "base_uri": "https://localhost:8080/",
          "height": 472
        },
        "id": "L_DSLwMqb5dT",
        "outputId": "45a73e44-1f0a-46f7-bdd5-c016c7226acc"
      },
      "execution_count": null,
      "outputs": [
        {
          "output_type": "display_data",
          "data": {
            "text/plain": [
              "<Figure size 640x480 with 1 Axes>"
            ],
            "image/png": "[encoded data removed]"
          },
          "metadata": {}
        }
      ]
    }
  ]
}